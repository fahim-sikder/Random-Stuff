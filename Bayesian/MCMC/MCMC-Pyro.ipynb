{
 "cells": [
  {
   "cell_type": "markdown",
   "metadata": {},
   "source": [
    "# MCMC using Pyro\n",
    "\n",
    "This is a direct example of MCMC given in [here](http://pyro.ai/examples/mcmc.html)."
   ]
  },
  {
   "cell_type": "code",
   "execution_count": 1,
   "metadata": {},
   "outputs": [],
   "source": [
    "import argparse\n",
    "import logging\n",
    "\n",
    "import torch\n",
    "\n",
    "import pyro\n",
    "import pyro.distributions as dist\n",
    "import pyro.poutine as poutine\n",
    "from pyro.infer import MCMC, NUTS\n",
    "\n",
    "logging.basicConfig(format='%(message)s', level=logging.INFO)\n",
    "pyro.enable_validation(__debug__)\n",
    "pyro.set_rng_seed(0)"
   ]
  },
  {
   "cell_type": "code",
   "execution_count": 2,
   "metadata": {},
   "outputs": [],
   "source": [
    "J = 8\n",
    "y = torch.tensor([28,  8, -3,  7, -1,  1, 18, 12]).type(torch.Tensor)\n",
    "sigma = torch.tensor([15, 10, 16, 11,  9, 11, 10, 18]).type(torch.Tensor)"
   ]
  },
  {
   "cell_type": "code",
   "execution_count": 3,
   "metadata": {},
   "outputs": [],
   "source": [
    "def model(sigma):\n",
    "    eta = pyro.sample('eta', dist.Normal(torch.zeros(8), torch.ones(8)))\n",
    "    mu = pyro.sample('mu', dist.Normal(torch.zeros(1), 10 * torch.ones(1)))\n",
    "    tau = pyro.sample('tau', dist.HalfCauchy(scale=25 * torch.ones(1)))\n",
    "\n",
    "    theta = mu + tau * eta\n",
    "\n",
    "    return pyro.sample(\"obs\", dist.Normal(theta, sigma))\n",
    "\n",
    "\n",
    "def conditioned_model(model, sigma, y):\n",
    "    return poutine.condition(model, data={\"obs\": y})(sigma)"
   ]
  },
  {
   "cell_type": "code",
   "execution_count": 4,
   "metadata": {},
   "outputs": [],
   "source": [
    "nuts_kernel = NUTS(conditioned_model, jit_compile='store_true')"
   ]
  },
  {
   "cell_type": "code",
   "execution_count": 5,
   "metadata": {},
   "outputs": [],
   "source": [
    "mcmc = MCMC(nuts_kernel, num_samples=1000, warmup_steps=1000, num_chains=1)"
   ]
  },
  {
   "cell_type": "code",
   "execution_count": 6,
   "metadata": {},
   "outputs": [
    {
     "name": "stderr",
     "output_type": "stream",
     "text": [
      "Sample: 100%|███████████████████████████████████████| 2000/2000 [00:53, 37.48it/s, step size=4.51e-01, acc. prob=0.833]\n"
     ]
    }
   ],
   "source": [
    "mcmc.run(model, sigma, y)"
   ]
  },
  {
   "cell_type": "code",
   "execution_count": 7,
   "metadata": {},
   "outputs": [
    {
     "name": "stdout",
     "output_type": "stream",
     "text": [
      "\n",
      "                mean       std    median     25.0%     75.0%     n_eff     r_hat\n",
      "    eta[0]      0.39      0.93      0.41     -0.43      0.84    786.59      1.00\n",
      "    eta[1]      0.05      0.86      0.05     -0.62      0.53    901.37      1.00\n",
      "    eta[2]     -0.17      0.96     -0.24     -0.90      0.43   1047.54      1.00\n",
      "    eta[3]      0.01      0.84     -0.01     -0.55      0.52    718.53      1.00\n",
      "    eta[4]     -0.31      0.89     -0.32     -0.88      0.27   1058.78      1.00\n",
      "    eta[5]     -0.16      0.88     -0.18     -0.72      0.43    969.34      1.00\n",
      "    eta[6]      0.36      0.95      0.42     -0.15      1.10    656.40      1.00\n",
      "    eta[7]      0.07      0.96      0.09     -0.52      0.79   1141.12      1.00\n",
      "     mu[0]      6.39      4.11      6.33      3.36      8.78    730.24      1.00\n",
      "    tau[0]      5.53      4.60      4.54      0.00      4.55    397.46      1.00\n",
      "\n",
      "Number of divergences: 0\n"
     ]
    }
   ],
   "source": [
    "mcmc.summary(prob=0.5)"
   ]
  }
 ],
 "metadata": {
  "kernelspec": {
   "display_name": "Python 3",
   "language": "python",
   "name": "python3"
  },
  "language_info": {
   "codemirror_mode": {
    "name": "ipython",
    "version": 3
   },
   "file_extension": ".py",
   "mimetype": "text/x-python",
   "name": "python",
   "nbconvert_exporter": "python",
   "pygments_lexer": "ipython3",
   "version": "3.7.1"
  }
 },
 "nbformat": 4,
 "nbformat_minor": 4
}
